{
 "cells": [
  {
   "cell_type": "code",
   "execution_count": 1,
   "metadata": {},
   "outputs": [
    {
     "name": "stdout",
     "output_type": "stream",
     "text": [
      "Collecting pymongo\n",
      "  Downloading pymongo-3.12.0-cp38-cp38-win_amd64.whl (397 kB)\n",
      "Installing collected packages: pymongo\n",
      "Successfully installed pymongo-3.12.0\n"
     ]
    },
    {
     "name": "stderr",
     "output_type": "stream",
     "text": [
      "WARNING: You are using pip version 21.0; however, version 21.2.4 is available.\n",
      "You should consider upgrading via the 'c:\\users\\josel\\appdata\\local\\programs\\python\\python38\\python.exe -m pip install --upgrade pip' command.\n"
     ]
    }
   ],
   "source": [
    "#instalando o pacote da linguagem python para conectar ao mongo\n",
    "!pip install pymongo"
   ]
  },
  {
   "cell_type": "code",
   "execution_count": 1,
   "metadata": {},
   "outputs": [],
   "source": [
    "#Verificando se esta tudo on com a instalação com o \"import pymong\". Iremos importar o MongoClient para estabelecer a conexão\n",
    "import pymongo\n",
    "from pymongo import MongoClient"
   ]
  },
  {
   "cell_type": "code",
   "execution_count": 2,
   "metadata": {},
   "outputs": [],
   "source": [
    "#Estabelecendo umna conexão\n",
    "conn = MongoClient(\"localhost\", 27017)\n",
    "#conn = MongoClient('mongodb://localhost:27017/')\n",
    "#conn = MongoClient()"
   ]
  },
  {
   "cell_type": "code",
   "execution_count": 3,
   "metadata": {},
   "outputs": [
    {
     "data": {
      "text/plain": [
       "pymongo.mongo_client.MongoClient"
      ]
     },
     "execution_count": 3,
     "metadata": {},
     "output_type": "execute_result"
    }
   ],
   "source": [
    "type(conn)"
   ]
  },
  {
   "cell_type": "code",
   "execution_count": 4,
   "metadata": {},
   "outputs": [],
   "source": [
    "#Criando um banco cadastroDB. Uma única instância do Mongo aceita vários bancos\n",
    "#Se não tiver o banco criar, se tiver conecta\n",
    "#Vale destacar que bancos e as coleções somente serão criadas após inserir um documento\n",
    "db = conn['cadastrodb']"
   ]
  },
  {
   "cell_type": "code",
   "execution_count": 5,
   "metadata": {},
   "outputs": [
    {
     "data": {
      "text/plain": [
       "pymongo.database.Database"
      ]
     },
     "execution_count": 5,
     "metadata": {},
     "output_type": "execute_result"
    }
   ],
   "source": [
    "type(db)"
   ]
  },
  {
   "cell_type": "markdown",
   "metadata": {},
   "source": [
    "**Nenhum dos comandos acima foram efetivados no Mongo. Tudo será criado após o primeiro documento for inserido.**"
   ]
  },
  {
   "cell_type": "code",
   "execution_count": 6,
   "metadata": {},
   "outputs": [],
   "source": [
    "import datetime"
   ]
  },
  {
   "cell_type": "code",
   "execution_count": 13,
   "metadata": {},
   "outputs": [],
   "source": [
    "post1 = {\"codigo\": 1,\n",
    "         \"nome\":\"Mouse\",\n",
    "         \"marcas\":\"[Gênius,Dell,Logitech,Razer]\",\n",
    "         \"data_cadastro\":datetime.datetime.utcnow()}"
   ]
  },
  {
   "cell_type": "code",
   "execution_count": 11,
   "metadata": {},
   "outputs": [
    {
     "data": {
      "text/plain": [
       "dict"
      ]
     },
     "execution_count": 11,
     "metadata": {},
     "output_type": "execute_result"
    }
   ],
   "source": [
    "type(post1)"
   ]
  },
  {
   "cell_type": "code",
   "execution_count": 7,
   "metadata": {},
   "outputs": [],
   "source": [
    "#Cria um coleção chamada posts ou conecta, caso já exista\n",
    "posts = db.posts"
   ]
  },
  {
   "cell_type": "code",
   "execution_count": null,
   "metadata": {},
   "outputs": [],
   "source": [
    "#insere\n",
    "post_id = posts.insert_one(post1)"
   ]
  },
  {
   "cell_type": "code",
   "execution_count": 15,
   "metadata": {},
   "outputs": [
    {
     "data": {
      "text/plain": [
       "ObjectId('613ce9741b8fe97b7357344e')"
      ]
     },
     "execution_count": 15,
     "metadata": {},
     "output_type": "execute_result"
    }
   ],
   "source": [
    "post_id.inserted_id"
   ]
  },
  {
   "cell_type": "code",
   "execution_count": 16,
   "metadata": {},
   "outputs": [
    {
     "data": {
      "text/plain": [
       "['posts']"
      ]
     },
     "execution_count": 16,
     "metadata": {},
     "output_type": "execute_result"
    }
   ],
   "source": [
    "db.list_collection_names()"
   ]
  },
  {
   "cell_type": "code",
   "execution_count": 8,
   "metadata": {},
   "outputs": [
    {
     "name": "stdout",
     "output_type": "stream",
     "text": [
      "{'_id': ObjectId('613ce9741b8fe97b7357344e'), 'codigo': 1, 'nome': 'Mouse', 'marcas': '[Gênius,Dell,Logitech,Razer]', 'data_cadastro': datetime.datetime(2021, 9, 11, 17, 37, 46, 846000)}\n"
     ]
    }
   ],
   "source": [
    "#imprimindo\n",
    "print(posts.find_one())"
   ]
  },
  {
   "cell_type": "code",
   "execution_count": 18,
   "metadata": {},
   "outputs": [],
   "source": [
    "post2 = {\"codigo\": 2,\n",
    "         \"nome\":\"Teclado\",\n",
    "         \"marcas\":\"[Gênius,Dell]\",\n",
    "         \"data_cadastro\":datetime.datetime.utcnow()}\n",
    "post3 = {\"codigo\": 3,\n",
    "         \"nome\":\"Suporte\",\n",
    "         \"marcas\":\"[Dell]\",\n",
    "         \"data_cadastro\":datetime.datetime.utcnow()}"
   ]
  },
  {
   "cell_type": "code",
   "execution_count": 19,
   "metadata": {},
   "outputs": [],
   "source": [
    "#Inserindi vários posts de uma vez\n",
    "new_posts = posts.insert_many([post2,post3])"
   ]
  },
  {
   "cell_type": "code",
   "execution_count": 20,
   "metadata": {},
   "outputs": [
    {
     "data": {
      "text/plain": [
       "[ObjectId('613ceaca1b8fe97b7357344f'), ObjectId('613ceaca1b8fe97b73573450')]"
      ]
     },
     "execution_count": 20,
     "metadata": {},
     "output_type": "execute_result"
    }
   ],
   "source": [
    "new_posts.inserted_ids"
   ]
  },
  {
   "cell_type": "code",
   "execution_count": 9,
   "metadata": {},
   "outputs": [
    {
     "data": {
      "text/plain": [
       "{'_id': ObjectId('613ceaca1b8fe97b7357344f'),\n",
       " 'codigo': 2,\n",
       " 'nome': 'Teclado',\n",
       " 'marcas': '[Gênius,Dell]',\n",
       " 'data_cadastro': datetime.datetime(2021, 9, 11, 17, 42, 26, 228000)}"
      ]
     },
     "execution_count": 9,
     "metadata": {},
     "output_type": "execute_result"
    }
   ],
   "source": [
    "#A Função find() retorna um cursor e podemos então navegar pelos dados\n",
    "posts.find_one({\"codigo\":2})"
   ]
  },
  {
   "cell_type": "code",
   "execution_count": 10,
   "metadata": {},
   "outputs": [
    {
     "name": "stdout",
     "output_type": "stream",
     "text": [
      "{'_id': ObjectId('613ce9741b8fe97b7357344e'), 'codigo': 1, 'nome': 'Mouse', 'marcas': '[Gênius,Dell,Logitech,Razer]', 'data_cadastro': datetime.datetime(2021, 9, 11, 17, 37, 46, 846000)}\n",
      "{'_id': ObjectId('613ceaca1b8fe97b7357344f'), 'codigo': 2, 'nome': 'Teclado', 'marcas': '[Gênius,Dell]', 'data_cadastro': datetime.datetime(2021, 9, 11, 17, 42, 26, 228000)}\n",
      "{'_id': ObjectId('613ceaca1b8fe97b73573450'), 'codigo': 3, 'nome': 'Headset', 'marcas': '[Dell]', 'data_cadastro': datetime.datetime(2021, 9, 11, 17, 42, 26, 229000)}\n"
     ]
    }
   ],
   "source": [
    "#Percorrer \n",
    "for post in posts.find():\n",
    "    print(post)"
   ]
  },
  {
   "cell_type": "code",
   "execution_count": 25,
   "metadata": {},
   "outputs": [
    {
     "data": {
      "text/plain": [
       "'cadastrodb'"
      ]
     },
     "execution_count": 25,
     "metadata": {},
     "output_type": "execute_result"
    }
   ],
   "source": [
    "#verificando o nome do banco\n",
    "db.name"
   ]
  },
  {
   "cell_type": "code",
   "execution_count": 11,
   "metadata": {},
   "outputs": [
    {
     "data": {
      "text/plain": [
       "['posts']"
      ]
     },
     "execution_count": 11,
     "metadata": {},
     "output_type": "execute_result"
    }
   ],
   "source": [
    "#Listando as coleções disponíveis\n",
    "db.list_collection_names()"
   ]
  },
  {
   "cell_type": "code",
   "execution_count": 28,
   "metadata": {},
   "outputs": [
    {
     "name": "stdout",
     "output_type": "stream",
     "text": [
      "{'_id': ObjectId('613ce9741b8fe97b7357344e'), 'codigo': 1, 'nome': 'Mouse', 'marcas': '[Gênius,Dell,Logitech,Razer]', 'data_cadastro': datetime.datetime(2021, 9, 11, 17, 37, 46, 846000)}\n",
      "{'_id': ObjectId('613ceaca1b8fe97b7357344f'), 'codigo': 2, 'nome': 'Teclado', 'marcas': '[Gênius,Dell]', 'data_cadastro': datetime.datetime(2021, 9, 11, 17, 42, 26, 228000)}\n",
      "{'_id': ObjectId('613ceaca1b8fe97b73573450'), 'codigo': 3, 'nome': 'Suporte', 'marcas': '[Dell]', 'data_cadastro': datetime.datetime(2021, 9, 11, 17, 42, 26, 229000)}\n"
     ]
    }
   ],
   "source": [
    "#Ordenando valores. 1 em ordem crescente e -1 em ordem descrescente\n",
    "docs = posts.find().sort(\"codigo\",-1)\n",
    "for items in docs:\n",
    "    print(items)"
   ]
  },
  {
   "cell_type": "code",
   "execution_count": 29,
   "metadata": {},
   "outputs": [
    {
     "data": {
      "text/plain": [
       "<pymongo.results.UpdateResult at 0x20b2f062b40>"
      ]
     },
     "execution_count": 29,
     "metadata": {},
     "output_type": "execute_result"
    }
   ],
   "source": [
    "#atualizando um documento\n",
    "query = {\"nome\":\"Suporte\"}\n",
    "newValue = {\"$set\":{\"nome\":\"Headset\"}}\n",
    "posts.update_one(query,newValue)"
   ]
  },
  {
   "cell_type": "code",
   "execution_count": 31,
   "metadata": {},
   "outputs": [
    {
     "name": "stdout",
     "output_type": "stream",
     "text": [
      "{'_id': ObjectId('613ce9741b8fe97b7357344e'), 'codigo': 1, 'nome': 'Mouse', 'marcas': '[Gênius,Dell,Logitech,Razer]', 'data_cadastro': datetime.datetime(2021, 9, 11, 17, 37, 46, 846000)}\n",
      "{'_id': ObjectId('613ceaca1b8fe97b7357344f'), 'codigo': 2, 'nome': 'Teclado', 'marcas': '[Gênius,Dell]', 'data_cadastro': datetime.datetime(2021, 9, 11, 17, 42, 26, 228000)}\n",
      "{'_id': ObjectId('613ceaca1b8fe97b73573450'), 'codigo': 3, 'nome': 'Headset', 'marcas': '[Dell]', 'data_cadastro': datetime.datetime(2021, 9, 11, 17, 42, 26, 229000)}\n"
     ]
    }
   ],
   "source": [
    "for items in posts.find():\n",
    "    print(items)"
   ]
  },
  {
   "cell_type": "code",
   "execution_count": 15,
   "metadata": {},
   "outputs": [
    {
     "name": "stdout",
     "output_type": "stream",
     "text": [
      "{'_id': ObjectId('613ce9741b8fe97b7357344e'), 'codigo': 1, 'nome': 'Mouse', 'marcas': '[Gênius,Dell,Logitech,Razer]', 'data_cadastro': datetime.datetime(2021, 9, 11, 17, 37, 46, 846000)}\n"
     ]
    }
   ],
   "source": [
    "#Lista com limite de quantidade\n",
    "limiteResultado = posts.find().limit(1)\n",
    "for items in limiteResultado:\n",
    "    print(items)"
   ]
  },
  {
   "cell_type": "code",
   "execution_count": 23,
   "metadata": {},
   "outputs": [
    {
     "name": "stderr",
     "output_type": "stream",
     "text": [
      "<ipython-input-23-23a1576d102e>:2: DeprecationWarning: count is deprecated. Use estimated_document_count or count_documents instead. Please note that $where must be replaced by $expr, $near must be replaced by $geoWithin with $center, and $nearSphere must be replaced by $geoWithin with $centerSphere\n",
      "  posts.count()\n"
     ]
    },
    {
     "data": {
      "text/plain": [
       "0"
      ]
     },
     "execution_count": 23,
     "metadata": {},
     "output_type": "execute_result"
    }
   ],
   "source": [
    "#Contando a quantidade de registros\n",
    "posts.count()"
   ]
  },
  {
   "cell_type": "code",
   "execution_count": 20,
   "metadata": {},
   "outputs": [],
   "source": [
    "#Deletando documento\n",
    "#Primeiro vamos listar todos\n",
    "for items in posts.find():\n",
    "    print(items)"
   ]
  },
  {
   "cell_type": "code",
   "execution_count": 17,
   "metadata": {},
   "outputs": [
    {
     "data": {
      "text/plain": [
       "<pymongo.results.DeleteResult at 0x212e7b551c0>"
      ]
     },
     "execution_count": 17,
     "metadata": {},
     "output_type": "execute_result"
    }
   ],
   "source": [
    "#Agora vou deletar, posso deletar por qualquer campo\n",
    "db.posts.delete_one({\"codigo\":1})"
   ]
  },
  {
   "cell_type": "code",
   "execution_count": 19,
   "metadata": {},
   "outputs": [
    {
     "data": {
      "text/plain": [
       "<pymongo.results.DeleteResult at 0x212e7d0f180>"
      ]
     },
     "execution_count": 19,
     "metadata": {},
     "output_type": "execute_result"
    }
   ],
   "source": [
    "#Deletando vários, praticamente irei deletar todos\n",
    "db.posts.delete_many({})"
   ]
  },
  {
   "cell_type": "code",
   "execution_count": 25,
   "metadata": {},
   "outputs": [
    {
     "name": "stderr",
     "output_type": "stream",
     "text": [
      "<ipython-input-25-da476d6caa6f>:2: DeprecationWarning: collection_names is deprecated. Use list_collection_names instead.\n",
      "  db.collection_names()\n"
     ]
    },
    {
     "data": {
      "text/plain": [
       "[]"
      ]
     },
     "execution_count": 25,
     "metadata": {},
     "output_type": "execute_result"
    }
   ],
   "source": [
    "#Listando as coleções\n",
    "db.collection_names()"
   ]
  },
  {
   "cell_type": "code",
   "execution_count": 24,
   "metadata": {},
   "outputs": [],
   "source": [
    "#Deletando a coleção\n",
    "posts.drop()"
   ]
  },
  {
   "cell_type": "code",
   "execution_count": 31,
   "metadata": {},
   "outputs": [
    {
     "name": "stderr",
     "output_type": "stream",
     "text": [
      "<ipython-input-31-653e6d4c9504>:2: DeprecationWarning: database_names is deprecated. Use list_database_names instead.\n",
      "  conn.database_names()\n"
     ]
    },
    {
     "data": {
      "text/plain": [
       "['admin', 'config', 'local']"
      ]
     },
     "execution_count": 31,
     "metadata": {},
     "output_type": "execute_result"
    }
   ],
   "source": [
    "#Listando os bancos de dados\n",
    "conn.database_names()"
   ]
  },
  {
   "cell_type": "code",
   "execution_count": 30,
   "metadata": {},
   "outputs": [],
   "source": [
    "#deletando o banco de dados criado\n",
    "conn.drop_database('cadastrodb')"
   ]
  }
 ],
 "metadata": {
  "kernelspec": {
   "display_name": "Python 3",
   "language": "python",
   "name": "python3"
  },
  "language_info": {
   "codemirror_mode": {
    "name": "ipython",
    "version": 3
   },
   "file_extension": ".py",
   "mimetype": "text/x-python",
   "name": "python",
   "nbconvert_exporter": "python",
   "pygments_lexer": "ipython3",
   "version": "3.8.5"
  }
 },
 "nbformat": 4,
 "nbformat_minor": 4
}
