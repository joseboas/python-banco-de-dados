{
 "cells": [
  {
   "cell_type": "code",
   "execution_count": 11,
   "id": "ede67883",
   "metadata": {},
   "outputs": [
    {
     "name": "stdout",
     "output_type": "stream",
     "text": [
      "Criando conexão\n"
     ]
    }
   ],
   "source": [
    "import psycopg2\n",
    "import random\n",
    "import time\n",
    "import datetime\n",
    "import pandas as pd\n",
    "print('Criando conexão')\n",
    "conn = psycopg2.connect(\n",
    "    host='localhost',\n",
    "    user='postgres',\n",
    "    password='postgres',\n",
    "    database='postgres')\n",
    "\n",
    "#criando um cursor\n",
    "c = conn.cursor()"
   ]
  },
  {
   "cell_type": "code",
   "execution_count": 2,
   "id": "5e9e54f1",
   "metadata": {},
   "outputs": [],
   "source": [
    "#Função para criar tabela\n",
    "def createTable():\n",
    "    c.execute(\"create table produtos(id serial not null primary key,\"\\\n",
    "              \"data timestamp,nome varchar(40),valor decimal(15,2))\")\n",
    "    conn.commit()"
   ]
  },
  {
   "cell_type": "code",
   "execution_count": 3,
   "id": "fda40318",
   "metadata": {},
   "outputs": [],
   "source": [
    "def insertTable():\n",
    "    c.execute(\"insert into produtos(data,nome,valor) values('2020-09-09','Teclado',90.00)\" )\n",
    "    conn.commit()"
   ]
  },
  {
   "cell_type": "code",
   "execution_count": 4,
   "id": "bb8a3b17",
   "metadata": {},
   "outputs": [],
   "source": [
    "def insertDadosVar():\n",
    "    novaData = datetime.datetime.now()\n",
    "    novoProduto = 'Monitor'\n",
    "    novoValor = random.randrange(10,200)\n",
    "    c.execute(\"insert into produtos(data,nome,valor) values(%s,%s,%s)\",(novaData,novoProduto,novoValor))\n",
    "    #Para o banco de dados SQLITE\n",
    "    #c.execute(\"insert into produtos(data,nome,valor) values(?,?,?)\",(novaData,novoProduto,novoValor))\n",
    "    \n",
    "    conn.commit()"
   ]
  },
  {
   "cell_type": "code",
   "execution_count": 5,
   "id": "25dcd4b7",
   "metadata": {},
   "outputs": [],
   "source": [
    "def insertDadosComSetencas(novaData,novoProduto,novoValor):\n",
    "    sql = \"insert into produtos(data,nome,valor) values(%s,%s,%s)\"\n",
    "    dados = (novaData,novoProduto,novoValor)\n",
    "    c.execute(sql,dados)\n",
    "    conn.commit()"
   ]
  },
  {
   "cell_type": "code",
   "execution_count": 6,
   "id": "78dcd1ab",
   "metadata": {},
   "outputs": [],
   "source": [
    "def insertDadosComSetencasLista(lista):\n",
    "    #Note: no python caso você queira inserir mais de um valor, voce pode passar\n",
    "    #uma lista de tupĺas como paramâmetro e utilizar um cursor, como um for\n",
    "    sql = \"insert into produtos(data,nome,valor) values(%s,%s,%s)\"\n",
    "    for rec in lista:        \n",
    "        c.execute(sql,rec)"
   ]
  },
  {
   "cell_type": "code",
   "execution_count": 7,
   "id": "859510f3",
   "metadata": {},
   "outputs": [],
   "source": [
    "def listaTudo():\n",
    "    c.execute(\"select * from produtos\")\n",
    "    for linha in c.fetchall():\n",
    "        print(linha)"
   ]
  },
  {
   "cell_type": "code",
   "execution_count": 8,
   "id": "4d087de9",
   "metadata": {},
   "outputs": [],
   "source": [
    "def listaPorValor():\n",
    "    c.execute(\"select * from produtos where valor > 60.0\")\n",
    "    for linha in c.fetchall():\n",
    "        print(linha)"
   ]
  },
  {
   "cell_type": "code",
   "execution_count": 10,
   "id": "9863c295",
   "metadata": {},
   "outputs": [],
   "source": [
    "def listaPorValorVar(valor):\n",
    "    c.execute(\"select * from produtos where valor > %s\" %(valor))\n",
    "    for linha in c.fetchall():\n",
    "        print(linha)"
   ]
  },
  {
   "cell_type": "code",
   "execution_count": 11,
   "id": "e52a75f1",
   "metadata": {},
   "outputs": [],
   "source": [
    "def listaPorValorIniNomeVar(nome,valor):\n",
    "    c.execute(\"select nome,valor from produtos where nome like '%s%%' and \"\\\n",
    "              \"valor > %s\" %(nome,valor))\n",
    "    for linha in c.fetchall():\n",
    "        print(linha)"
   ]
  },
  {
   "cell_type": "code",
   "execution_count": 12,
   "id": "d57d7567",
   "metadata": {},
   "outputs": [],
   "source": [
    "def listaPorValorAnyNomeVar(nome,valor):\n",
    "    c.execute(\"select nome,valor from produtos where nome like '%%%s%%' and \"\\\n",
    "              \"valor > %s\" %(nome,valor))\n",
    "    for linha in c.fetchall():\n",
    "        print(linha) "
   ]
  },
  {
   "cell_type": "code",
   "execution_count": 13,
   "id": "7d89526a",
   "metadata": {},
   "outputs": [],
   "source": [
    "def listaColuna():\n",
    "    c.execute(\"select * from produtos\")\n",
    "    for linha in c.fetchall():\n",
    "        print(linha[3])"
   ]
  },
  {
   "cell_type": "code",
   "execution_count": 14,
   "id": "70f4b3c8",
   "metadata": {},
   "outputs": [],
   "source": [
    "def atualizaDados(codigo,novoProduto,novaData,novoValor):\n",
    "    c.execute(\"update produtos set nome = %s, data = %s, valor = %s where id = %s\",(novoProduto,novaData,novoValor,codigo))\n",
    "    conn.commit()"
   ]
  },
  {
   "cell_type": "code",
   "execution_count": 15,
   "id": "d09534d6",
   "metadata": {},
   "outputs": [],
   "source": [
    "def deletaDados(codigo):\n",
    "    c.execute(\"delete from produtos where id = %s\"  %codigo)\n",
    "    conn.commit() "
   ]
  },
  {
   "cell_type": "code",
   "execution_count": 16,
   "id": "bd8f0227",
   "metadata": {},
   "outputs": [],
   "source": [
    "#Criando a tabela\n",
    "createTable()"
   ]
  },
  {
   "cell_type": "code",
   "execution_count": 17,
   "id": "30886027",
   "metadata": {},
   "outputs": [],
   "source": [
    "#Insere tabela\n",
    "insertTable()"
   ]
  },
  {
   "cell_type": "code",
   "execution_count": 18,
   "id": "b9ad5178",
   "metadata": {},
   "outputs": [],
   "source": [
    "#insere com dados\n",
    "insertDadosVar()"
   ]
  },
  {
   "cell_type": "code",
   "execution_count": 19,
   "id": "42443466",
   "metadata": {},
   "outputs": [],
   "source": [
    "#Insere tabela\n",
    "insertDadosComSetencas('2019-08-09','Mouse',25.00)"
   ]
  },
  {
   "cell_type": "code",
   "execution_count": 20,
   "id": "13b7077f",
   "metadata": {},
   "outputs": [],
   "source": [
    "#Insert com lista de tupla\n",
    "lista = [('2020-01-09','Mouse sem fio',50.00),\n",
    "         ('2020-01-09','Teclado sem fio',70.00)]\n",
    "insertDadosComSetencasLista(lista)\n",
    "#Dando um commit na inserção por lista. Não executar o commit junto com o insert    \n",
    "conn.commit()"
   ]
  },
  {
   "cell_type": "code",
   "execution_count": 21,
   "id": "c08339f2",
   "metadata": {},
   "outputs": [],
   "source": [
    "#Gerando valore e inserindo na tabela\n",
    "for i in range(10):\n",
    "   insertDadosVar()\n",
    "   time.sleep(1)"
   ]
  },
  {
   "cell_type": "code",
   "execution_count": 28,
   "id": "9288da86",
   "metadata": {},
   "outputs": [
    {
     "name": "stdout",
     "output_type": "stream",
     "text": [
      "(3, datetime.datetime(2019, 8, 9, 0, 0), 'Mouse', Decimal('25.00'))\n",
      "(4, datetime.datetime(2020, 1, 9, 0, 0), 'Mouse sem fio', Decimal('50.00'))\n",
      "(5, datetime.datetime(2020, 1, 9, 0, 0), 'Teclado sem fio', Decimal('70.00'))\n",
      "(6, datetime.datetime(2021, 9, 9, 21, 23, 11, 605549), 'Monitor', Decimal('87.00'))\n",
      "(7, datetime.datetime(2021, 9, 9, 21, 23, 12, 611365), 'Monitor', Decimal('161.00'))\n",
      "(8, datetime.datetime(2021, 9, 9, 21, 23, 13, 617604), 'Monitor', Decimal('168.00'))\n",
      "(9, datetime.datetime(2021, 9, 9, 21, 23, 14, 623630), 'Monitor', Decimal('117.00'))\n",
      "(10, datetime.datetime(2021, 9, 9, 21, 23, 15, 629228), 'Monitor', Decimal('80.00'))\n",
      "(11, datetime.datetime(2021, 9, 9, 21, 23, 16, 634646), 'Monitor', Decimal('14.00'))\n",
      "(12, datetime.datetime(2021, 9, 9, 21, 23, 17, 640727), 'Monitor', Decimal('150.00'))\n",
      "(13, datetime.datetime(2021, 9, 9, 21, 23, 18, 646183), 'Monitor', Decimal('127.00'))\n",
      "(14, datetime.datetime(2021, 9, 9, 21, 23, 19, 651248), 'Monitor', Decimal('63.00'))\n",
      "(15, datetime.datetime(2021, 9, 9, 21, 23, 20, 657123), 'Monitor', Decimal('57.00'))\n",
      "(1, datetime.datetime(2019, 8, 9, 0, 0), 'Mouse', Decimal('25.50'))\n"
     ]
    }
   ],
   "source": [
    "listaTudo()"
   ]
  },
  {
   "cell_type": "code",
   "execution_count": 23,
   "id": "89436dda",
   "metadata": {},
   "outputs": [
    {
     "name": "stdout",
     "output_type": "stream",
     "text": [
      "(1, datetime.datetime(2020, 9, 9, 0, 0), 'Teclado', Decimal('90.00'))\n",
      "(5, datetime.datetime(2020, 1, 9, 0, 0), 'Teclado sem fio', Decimal('70.00'))\n",
      "(6, datetime.datetime(2021, 9, 9, 21, 23, 11, 605549), 'Monitor', Decimal('87.00'))\n",
      "(7, datetime.datetime(2021, 9, 9, 21, 23, 12, 611365), 'Monitor', Decimal('161.00'))\n",
      "(8, datetime.datetime(2021, 9, 9, 21, 23, 13, 617604), 'Monitor', Decimal('168.00'))\n",
      "(9, datetime.datetime(2021, 9, 9, 21, 23, 14, 623630), 'Monitor', Decimal('117.00'))\n",
      "(10, datetime.datetime(2021, 9, 9, 21, 23, 15, 629228), 'Monitor', Decimal('80.00'))\n",
      "(12, datetime.datetime(2021, 9, 9, 21, 23, 17, 640727), 'Monitor', Decimal('150.00'))\n",
      "(13, datetime.datetime(2021, 9, 9, 21, 23, 18, 646183), 'Monitor', Decimal('127.00'))\n",
      "(14, datetime.datetime(2021, 9, 9, 21, 23, 19, 651248), 'Monitor', Decimal('63.00'))\n"
     ]
    }
   ],
   "source": [
    "listaPorValor()"
   ]
  },
  {
   "cell_type": "code",
   "execution_count": 24,
   "id": "7e9e98fc",
   "metadata": {},
   "outputs": [
    {
     "name": "stdout",
     "output_type": "stream",
     "text": [
      "(7, datetime.datetime(2021, 9, 9, 21, 23, 12, 611365), 'Monitor', Decimal('161.00'))\n",
      "(8, datetime.datetime(2021, 9, 9, 21, 23, 13, 617604), 'Monitor', Decimal('168.00'))\n",
      "(9, datetime.datetime(2021, 9, 9, 21, 23, 14, 623630), 'Monitor', Decimal('117.00'))\n",
      "(12, datetime.datetime(2021, 9, 9, 21, 23, 17, 640727), 'Monitor', Decimal('150.00'))\n",
      "(13, datetime.datetime(2021, 9, 9, 21, 23, 18, 646183), 'Monitor', Decimal('127.00'))\n"
     ]
    }
   ],
   "source": [
    "listaPorValorVar(100)"
   ]
  },
  {
   "cell_type": "code",
   "execution_count": 25,
   "id": "3fb14bb6",
   "metadata": {},
   "outputs": [
    {
     "name": "stdout",
     "output_type": "stream",
     "text": [
      "90.00\n",
      "36.00\n",
      "25.00\n",
      "50.00\n",
      "70.00\n",
      "87.00\n",
      "161.00\n",
      "168.00\n",
      "117.00\n",
      "80.00\n",
      "14.00\n",
      "150.00\n",
      "127.00\n",
      "63.00\n",
      "57.00\n"
     ]
    }
   ],
   "source": [
    "listaColuna()"
   ]
  },
  {
   "cell_type": "code",
   "execution_count": 26,
   "id": "14061225",
   "metadata": {},
   "outputs": [
    {
     "name": "stdout",
     "output_type": "stream",
     "text": [
      "('Teclado', Decimal('90.00'))\n",
      "('Teclado sem fio', Decimal('70.00'))\n"
     ]
    }
   ],
   "source": [
    "listaPorValorIniNomeVar('T',60)"
   ]
  },
  {
   "cell_type": "code",
   "execution_count": 27,
   "id": "492d0062",
   "metadata": {},
   "outputs": [
    {
     "name": "stdout",
     "output_type": "stream",
     "text": [
      "('Teclado', Decimal('90.00'))\n",
      "('Teclado sem fio', Decimal('70.00'))\n"
     ]
    }
   ],
   "source": [
    "listaPorValorAnyNomeVar('T',60)"
   ]
  },
  {
   "cell_type": "code",
   "execution_count": 28,
   "id": "581e285c",
   "metadata": {},
   "outputs": [],
   "source": [
    "atualizaDados(1,'Mouse','2019-08-09',25.50)"
   ]
  },
  {
   "cell_type": "code",
   "execution_count": 29,
   "id": "cadd0e7f",
   "metadata": {},
   "outputs": [],
   "source": [
    "deletaDados(2)"
   ]
  },
  {
   "cell_type": "code",
   "execution_count": 30,
   "id": "b963de07",
   "metadata": {},
   "outputs": [],
   "source": [
    "c.close()\n",
    "conn.close()"
   ]
  },
  {
   "cell_type": "code",
   "execution_count": null,
   "id": "3eac3817",
   "metadata": {},
   "outputs": [],
   "source": []
  }
 ],
 "metadata": {
  "kernelspec": {
   "display_name": "Python 3",
   "language": "python",
   "name": "python3"
  },
  "language_info": {
   "codemirror_mode": {
    "name": "ipython",
    "version": 3
   },
   "file_extension": ".py",
   "mimetype": "text/x-python",
   "name": "python",
   "nbconvert_exporter": "python",
   "pygments_lexer": "ipython3",
   "version": "3.8.8"
  }
 },
 "nbformat": 4,
 "nbformat_minor": 5
}
